{
  "metadata": {
    "kernelspec": {
      "language": "python",
      "display_name": "Python 3",
      "name": "python3"
    },
    "language_info": {
      "name": "python",
      "version": "3.10.12",
      "mimetype": "text/x-python",
      "codemirror_mode": {
        "name": "ipython",
        "version": 3
      },
      "pygments_lexer": "ipython3",
      "nbconvert_exporter": "python",
      "file_extension": ".py"
    },
    "colab": {
      "provenance": []
    }
  },
  "nbformat_minor": 0,
  "nbformat": 4,
  "cells": [
    {
      "cell_type": "code",
      "source": [
        "import cv2 as cv\n",
        "import numpy as np\n",
        "import pickle\n",
        "import os\n",
        "import matplotlib.pyplot as plt\n",
        "import seaborn as sns\n",
        "from tensorflow import keras\n",
        "from tensorflow.keras import layers\n",
        "from tensorflow.keras.callbacks import EarlyStopping\n",
        "import tensorflow as tf\n",
        "from tensorflow.keras.models import Sequential\n",
        "from tensorflow.keras.layers import Conv2D, MaxPooling2D, Flatten, Dense, Dropout"
      ],
      "metadata": {
        "_uuid": "8f2839f25d086af736a60e9eeb907d3b93b6e0e5",
        "_cell_guid": "b1076dfc-b9ad-4769-8c92-a6c4dae69d19",
        "execution": {
          "iopub.status.busy": "2023-10-21T13:40:54.845241Z",
          "iopub.execute_input": "2023-10-21T13:40:54.845629Z",
          "iopub.status.idle": "2023-10-21T13:41:04.252922Z",
          "shell.execute_reply.started": "2023-10-21T13:40:54.845603Z",
          "shell.execute_reply": "2023-10-21T13:41:04.251712Z"
        },
        "trusted": true,
        "id": "N0rshnqqjPll"
      },
      "execution_count": null,
      "outputs": []
    },
    {
      "cell_type": "code",
      "source": [
        "Covid=os.listdir(\"/kaggle/input/covid19-image-dataset/Covid19-dataset/train/Covid\")\n",
        "Normal=os.listdir(\"/kaggle/input/covid19-image-dataset/Covid19-dataset/train/Normal\")\n",
        "Pneumonia=os.listdir(\"/kaggle/input/covid19-image-dataset/Covid19-dataset/train/Viral Pneumonia\")"
      ],
      "metadata": {
        "execution": {
          "iopub.status.busy": "2023-10-21T13:41:04.255426Z",
          "iopub.execute_input": "2023-10-21T13:41:04.256699Z",
          "iopub.status.idle": "2023-10-21T13:41:04.355658Z",
          "shell.execute_reply.started": "2023-10-21T13:41:04.256640Z",
          "shell.execute_reply": "2023-10-21T13:41:04.354759Z"
        },
        "trusted": true,
        "id": "gUezY6yojPlp"
      },
      "execution_count": null,
      "outputs": []
    },
    {
      "cell_type": "code",
      "source": [
        "x_1=[]\n",
        "y_1=[]\n",
        "\n",
        "for i in  Covid:\n",
        "    #load the image\n",
        "    image = cv.imread(\"/kaggle/input/covid19-image-dataset/Covid19-dataset/train/Covid/\"+i)\n",
        "    #resize the image\n",
        "    image = cv.resize(image, (224, 224))\n",
        "    image = cv.cvtColor(image, cv.COLOR_BGR2GRAY)\n",
        "    x_1.append(image)\n",
        "    y_1.append(1)\n",
        "\n",
        "for i in Pneumonia:\n",
        "    #load the image\n",
        "    image = cv.imread(\"/kaggle/input/covid19-image-dataset/Covid19-dataset/train/Viral Pneumonia/\"+i)\n",
        "    #resize the image\n",
        "    image = cv.resize(image, (224, 224))\n",
        "    image = cv.cvtColor(image, cv.COLOR_BGR2GRAY)\n",
        "    x_1.append(image)\n",
        "    y_1.append(1)\n",
        "\n",
        "for i in Normal:\n",
        "    #load the image\n",
        "    image = cv.imread(\"/kaggle/input/covid19-image-dataset/Covid19-dataset/train/Normal/\"+i)\n",
        "    #resize the image\n",
        "    image = cv.resize(image, (224, 224))\n",
        "    image = cv.cvtColor(image, cv.COLOR_BGR2GRAY)\n",
        "    x_1.append(image)\n",
        "    y_1.append(0)\n",
        "\n",
        "x_1 = np.array(x_1)\n",
        "y_1 = np.array(y_1)"
      ],
      "metadata": {
        "execution": {
          "iopub.status.busy": "2023-10-21T13:41:04.358949Z",
          "iopub.execute_input": "2023-10-21T13:41:04.359798Z",
          "iopub.status.idle": "2023-10-21T13:41:15.500611Z",
          "shell.execute_reply.started": "2023-10-21T13:41:04.359769Z",
          "shell.execute_reply": "2023-10-21T13:41:15.499716Z"
        },
        "trusted": true,
        "id": "j8Zny44KjPlq"
      },
      "execution_count": null,
      "outputs": []
    },
    {
      "cell_type": "code",
      "source": [
        "from sklearn.model_selection import train_test_split\n",
        "x_train1,x_test1,y_train1,y_test1 = train_test_split(x_1,y_1,stratify=y_1,random_state=5,test_size=0.2)\n",
        "y_train1 = tf.keras.utils.to_categorical(y_train1)\n",
        "y_test1 =tf.keras.utils.to_categorical(y_test1)"
      ],
      "metadata": {
        "execution": {
          "iopub.status.busy": "2023-10-21T13:41:15.502796Z",
          "iopub.execute_input": "2023-10-21T13:41:15.503078Z",
          "iopub.status.idle": "2023-10-21T13:41:15.674968Z",
          "shell.execute_reply.started": "2023-10-21T13:41:15.503048Z",
          "shell.execute_reply": "2023-10-21T13:41:15.674141Z"
        },
        "trusted": true,
        "id": "KFtO2_zTjPlq"
      },
      "execution_count": null,
      "outputs": []
    },
    {
      "cell_type": "code",
      "source": [
        "from tensorflow.keras import backend as K\n",
        "\n",
        "def auroc(y_true, y_pred):\n",
        "    auc = tf.metrics.auc(y_true, y_pred)[1]\n",
        "    K.get_session().run(tf.local_variables_initializer())\n",
        "    return auroc"
      ],
      "metadata": {
        "execution": {
          "iopub.status.busy": "2023-10-21T13:41:15.676193Z",
          "iopub.execute_input": "2023-10-21T13:41:15.676490Z",
          "iopub.status.idle": "2023-10-21T13:41:15.682264Z",
          "shell.execute_reply.started": "2023-10-21T13:41:15.676464Z",
          "shell.execute_reply": "2023-10-21T13:41:15.681339Z"
        },
        "trusted": true,
        "id": "PdwNi2ZWjPlr"
      },
      "execution_count": null,
      "outputs": []
    },
    {
      "cell_type": "code",
      "source": [
        "# Create a CNN model\n",
        "model1 = keras.Sequential([\n",
        "    layers.Conv2D(16, (3, 3), activation='relu', input_shape=(224, 224,1)),\n",
        "    layers.MaxPooling2D((2, 2)),\n",
        "\n",
        "    layers.Conv2D(32, (3, 3), activation='relu',),\n",
        "    layers.MaxPooling2D((2, 2)),\n",
        "\n",
        "    layers.Conv2D(64, (3, 3), activation='relu',),\n",
        "    layers.MaxPooling2D((2, 2)),\n",
        "\n",
        "    layers.Conv2D(128, (3, 3), activation='leaky_relu'),\n",
        "    layers.MaxPooling2D((2, 2)),\n",
        "\n",
        "    layers.Flatten(),\n",
        "    layers.Dense(256, activation='relu'),\n",
        "    layers.Dropout(0.5),\n",
        "\n",
        "    layers.Dense(2, activation='softmax')\n",
        "])"
      ],
      "metadata": {
        "execution": {
          "iopub.status.busy": "2023-10-21T13:41:15.683645Z",
          "iopub.execute_input": "2023-10-21T13:41:15.683996Z",
          "iopub.status.idle": "2023-10-21T13:41:15.962648Z",
          "shell.execute_reply.started": "2023-10-21T13:41:15.683962Z",
          "shell.execute_reply": "2023-10-21T13:41:15.961755Z"
        },
        "trusted": true,
        "id": "gDH7J-dbjPlr"
      },
      "execution_count": null,
      "outputs": []
    },
    {
      "cell_type": "code",
      "source": [
        "# # Define the desired learning rate\n",
        "learning_rate = 0.01\n",
        "\n",
        "from keras.optimizers import SGD\n",
        "optimizer = keras.optimizers.Adam(learning_rate=learning_rate)\n",
        "model1.compile(loss = \"categorical_crossentropy\", optimizer = optimizer,metrics=['accuracy',tf.keras.metrics.Precision(), tf.keras.metrics.Recall(),tf.keras.metrics.AUC()])\n"
      ],
      "metadata": {
        "execution": {
          "iopub.status.busy": "2023-10-21T14:09:37.514125Z",
          "iopub.execute_input": "2023-10-21T14:09:37.514622Z",
          "iopub.status.idle": "2023-10-21T14:09:37.546919Z",
          "shell.execute_reply.started": "2023-10-21T14:09:37.514589Z",
          "shell.execute_reply": "2023-10-21T14:09:37.545862Z"
        },
        "trusted": true,
        "id": "mKJ23jWCjPlr"
      },
      "execution_count": null,
      "outputs": []
    },
    {
      "cell_type": "code",
      "source": [
        "early_stop = EarlyStopping(monitor='val_loss', patience=5)\n",
        "model1.fit(x_train1, y_train1, epochs=20, validation_data=(x_test1, y_test1), callbacks=[early_stop],shuffle=True)"
      ],
      "metadata": {
        "execution": {
          "iopub.status.busy": "2023-10-21T14:09:44.091047Z",
          "iopub.execute_input": "2023-10-21T14:09:44.092134Z",
          "iopub.status.idle": "2023-10-21T14:11:12.489835Z",
          "shell.execute_reply.started": "2023-10-21T14:09:44.092069Z",
          "shell.execute_reply": "2023-10-21T14:11:12.488778Z"
        },
        "trusted": true,
        "id": "DcTXr5hZjPls",
        "outputId": "300c2639-ed4d-4daf-aa70-19f1c1b3d02c"
      },
      "execution_count": null,
      "outputs": [
        {
          "name": "stdout",
          "text": "Epoch 1/20\n7/7 [==============================] - 7s 830ms/step - loss: 0.5735 - accuracy: 0.8450 - precision_1: 0.8450 - recall_1: 0.8450 - auc: 0.8971 - val_loss: 4.0723 - val_accuracy: 0.8039 - val_precision_1: 0.8039 - val_recall_1: 0.8039 - val_auc: 0.8708\nEpoch 2/20\n7/7 [==============================] - 6s 793ms/step - loss: 0.6555 - accuracy: 0.8600 - precision_1: 0.8600 - recall_1: 0.8600 - auc: 0.8983 - val_loss: 1.5817 - val_accuracy: 0.7647 - val_precision_1: 0.7647 - val_recall_1: 0.7647 - val_auc: 0.8420\nEpoch 3/20\n7/7 [==============================] - 6s 880ms/step - loss: 0.4687 - accuracy: 0.8400 - precision_1: 0.8400 - recall_1: 0.8400 - auc: 0.9033 - val_loss: 0.7035 - val_accuracy: 0.7843 - val_precision_1: 0.7843 - val_recall_1: 0.7843 - val_auc: 0.8504\nEpoch 4/20\n7/7 [==============================] - 6s 835ms/step - loss: 0.4080 - accuracy: 0.8350 - precision_1: 0.8350 - recall_1: 0.8350 - auc: 0.9116 - val_loss: 14.5000 - val_accuracy: 0.7059 - val_precision_1: 0.7059 - val_recall_1: 0.7059 - val_auc: 0.6540\nEpoch 5/20\n7/7 [==============================] - 6s 851ms/step - loss: 2.1459 - accuracy: 0.8150 - precision_1: 0.8150 - recall_1: 0.8150 - auc: 0.8514 - val_loss: 0.3855 - val_accuracy: 0.8039 - val_precision_1: 0.8039 - val_recall_1: 0.8039 - val_auc: 0.8916\nEpoch 6/20\n7/7 [==============================] - 6s 824ms/step - loss: 0.5234 - accuracy: 0.8200 - precision_1: 0.8200 - recall_1: 0.8200 - auc: 0.9002 - val_loss: 0.4381 - val_accuracy: 0.7647 - val_precision_1: 0.7647 - val_recall_1: 0.7647 - val_auc: 0.8716\nEpoch 7/20\n7/7 [==============================] - 6s 821ms/step - loss: 0.3969 - accuracy: 0.8400 - precision_1: 0.8400 - recall_1: 0.8400 - auc: 0.8982 - val_loss: 0.4956 - val_accuracy: 0.7647 - val_precision_1: 0.7647 - val_recall_1: 0.7647 - val_auc: 0.8516\nEpoch 8/20\n7/7 [==============================] - 6s 821ms/step - loss: 0.4052 - accuracy: 0.8500 - precision_1: 0.8500 - recall_1: 0.8500 - auc: 0.9229 - val_loss: 0.7227 - val_accuracy: 0.7647 - val_precision_1: 0.7647 - val_recall_1: 0.7647 - val_auc: 0.8078\nEpoch 9/20\n7/7 [==============================] - 5s 782ms/step - loss: 0.3714 - accuracy: 0.8200 - precision_1: 0.8200 - recall_1: 0.8200 - auc: 0.9030 - val_loss: 0.4657 - val_accuracy: 0.7843 - val_precision_1: 0.7843 - val_recall_1: 0.7843 - val_auc: 0.8589\nEpoch 10/20\n7/7 [==============================] - 6s 852ms/step - loss: 0.5010 - accuracy: 0.8100 - precision_1: 0.8100 - recall_1: 0.8100 - auc: 0.9028 - val_loss: 0.3445 - val_accuracy: 0.8235 - val_precision_1: 0.8235 - val_recall_1: 0.8235 - val_auc: 0.9308\nEpoch 11/20\n7/7 [==============================] - 6s 831ms/step - loss: 0.4360 - accuracy: 0.8500 - precision_1: 0.8500 - recall_1: 0.8500 - auc: 0.8972 - val_loss: 0.9166 - val_accuracy: 0.8039 - val_precision_1: 0.8039 - val_recall_1: 0.8039 - val_auc: 0.8424\nEpoch 12/20\n7/7 [==============================] - 6s 833ms/step - loss: 0.4494 - accuracy: 0.8300 - precision_1: 0.8300 - recall_1: 0.8300 - auc: 0.9098 - val_loss: 1.6117 - val_accuracy: 0.8039 - val_precision_1: 0.8039 - val_recall_1: 0.8039 - val_auc: 0.8750\nEpoch 13/20\n7/7 [==============================] - 5s 777ms/step - loss: 0.4290 - accuracy: 0.8700 - precision_1: 0.8700 - recall_1: 0.8700 - auc: 0.9312 - val_loss: 1.2124 - val_accuracy: 0.8039 - val_precision_1: 0.8039 - val_recall_1: 0.8039 - val_auc: 0.8977\nEpoch 14/20\n7/7 [==============================] - 6s 831ms/step - loss: 72.7064 - accuracy: 0.8100 - precision_1: 0.8100 - recall_1: 0.8100 - auc: 0.8296 - val_loss: 21.5576 - val_accuracy: 0.7451 - val_precision_1: 0.7451 - val_recall_1: 0.7451 - val_auc: 0.7828\nEpoch 15/20\n7/7 [==============================] - 6s 823ms/step - loss: 3.5269 - accuracy: 0.8250 - precision_1: 0.8250 - recall_1: 0.8250 - auc: 0.8541 - val_loss: 5.7185 - val_accuracy: 0.8235 - val_precision_1: 0.8235 - val_recall_1: 0.8235 - val_auc: 0.8697\n",
          "output_type": "stream"
        },
        {
          "execution_count": 29,
          "output_type": "execute_result",
          "data": {
            "text/plain": "<keras.callbacks.History at 0x7fa035987700>"
          },
          "metadata": {}
        }
      ]
    },
    {
      "cell_type": "code",
      "source": [
        "y_predict=model1.predict(x_test1)\n",
        "y_true=y_test1\n",
        "res = tf.math.confusion_matrix(y_true,y_predict)\n",
        "sns.heatmap(res,annot=True)"
      ],
      "metadata": {
        "execution": {
          "iopub.status.busy": "2023-10-21T13:42:50.549084Z",
          "iopub.execute_input": "2023-10-21T13:42:50.549641Z",
          "iopub.status.idle": "2023-10-21T13:43:40.481195Z",
          "shell.execute_reply.started": "2023-10-21T13:42:50.549599Z",
          "shell.execute_reply": "2023-10-21T13:43:40.480472Z"
        },
        "trusted": true,
        "id": "GOBMfCYzjPlt",
        "outputId": "31267fb4-cc69-4f39-9c9f-f1a917196aad"
      },
      "execution_count": null,
      "outputs": [
        {
          "name": "stdout",
          "text": "2/2 [==============================] - 0s 136ms/step\n",
          "output_type": "stream"
        },
        {
          "execution_count": 11,
          "output_type": "execute_result",
          "data": {
            "text/plain": "<Axes: >"
          },
          "metadata": {}
        },
        {
          "output_type": "display_data",
          "data": {
            "text/plain": "<Figure size 640x480 with 2 Axes>",
            "image/png": "[encoded data removed]"
          },
          "metadata": {}
        }
      ]
    },
    {
      "cell_type": "code",
      "source": [
        "x_2=[]\n",
        "y_2=[]\n",
        "\n",
        "for i in  Covid:\n",
        "    #load the image\n",
        "    image = cv.imread(\"/kaggle/input/covid19-image-dataset/Covid19-dataset/train/Covid/\"+i)\n",
        "    #resize the image\n",
        "    image = cv.resize(image, (224, 224))\n",
        "    image = cv.cvtColor(image, cv.COLOR_BGR2GRAY)\n",
        "    x_2.append(image)\n",
        "    y_2.append(1)\n",
        "\n",
        "for i in Pneumonia:\n",
        "    #load the image\n",
        "    image = cv.imread(\"/kaggle/input/covid19-image-dataset/Covid19-dataset/train/Viral Pneumonia/\"+i)\n",
        "    #resize the image\n",
        "    image = cv.resize(image, (224, 224))\n",
        "    image = cv.cvtColor(image, cv.COLOR_BGR2GRAY)\n",
        "    x_2.append(image)\n",
        "    y_2.append(0)\n",
        "\n",
        "x_2 = np.array(x_2)\n",
        "y_2 = np.array(y_2)"
      ],
      "metadata": {
        "execution": {
          "iopub.status.busy": "2023-10-21T13:43:40.483861Z",
          "iopub.execute_input": "2023-10-21T13:43:40.484384Z",
          "iopub.status.idle": "2023-10-21T13:43:46.083428Z",
          "shell.execute_reply.started": "2023-10-21T13:43:40.484348Z",
          "shell.execute_reply": "2023-10-21T13:43:46.082347Z"
        },
        "trusted": true,
        "id": "eBdnB26IjPlt"
      },
      "execution_count": null,
      "outputs": []
    },
    {
      "cell_type": "code",
      "source": [
        "from sklearn.model_selection import train_test_split\n",
        "x_train,x_test,y_train,y_test=train_test_split(x_2,y_2,stratify=y_2,random_state=5,test_size=0.2)\n",
        "y_train = tf.keras.utils.to_categorical(y_train)\n",
        "y_test=tf.keras.utils.to_categorical(y_test)"
      ],
      "metadata": {
        "execution": {
          "iopub.status.busy": "2023-10-21T13:43:46.084742Z",
          "iopub.execute_input": "2023-10-21T13:43:46.085852Z",
          "iopub.status.idle": "2023-10-21T13:43:46.095336Z",
          "shell.execute_reply.started": "2023-10-21T13:43:46.085818Z",
          "shell.execute_reply": "2023-10-21T13:43:46.094623Z"
        },
        "trusted": true,
        "id": "cXNrwZVjjPlu"
      },
      "execution_count": null,
      "outputs": []
    },
    {
      "cell_type": "code",
      "source": [
        "# Create a CNN model\n",
        "model2 = keras.Sequential([\n",
        "    layers.Conv2D(16, (3, 3), activation='leaky_relu', input_shape=(224, 224,1)),\n",
        "    layers.MaxPooling2D((2, 2)),\n",
        "\n",
        "    layers.Conv2D(32, (3, 3), activation='leaky_relu',),\n",
        "    layers.MaxPooling2D((2, 2)),\n",
        "\n",
        "    layers.Conv2D(64, (3, 3), activation='leaky_relu'),\n",
        "    layers.MaxPooling2D((2, 2)),\n",
        "\n",
        "    layers.Flatten(),\n",
        "    layers.Dense(128, activation='leaky_relu'),\n",
        "    layers.Dropout(0.5),\n",
        "\n",
        "    layers.Dense(2, activation='softmax')\n",
        "])"
      ],
      "metadata": {
        "execution": {
          "iopub.status.busy": "2023-10-21T13:43:46.096959Z",
          "iopub.execute_input": "2023-10-21T13:43:46.098014Z",
          "iopub.status.idle": "2023-10-21T13:43:46.234322Z",
          "shell.execute_reply.started": "2023-10-21T13:43:46.097974Z",
          "shell.execute_reply": "2023-10-21T13:43:46.233481Z"
        },
        "trusted": true,
        "id": "-B9PE1q-jPlu"
      },
      "execution_count": null,
      "outputs": []
    },
    {
      "cell_type": "code",
      "source": [
        "# # Define the desired learning rate\n",
        "learning_rate = 0.01\n",
        "\n",
        "# # Create an optimizer with the desired learning rate\n",
        "optimizer = keras.optimizers.Adam(learning_rate=learning_rate)\n",
        "\n",
        "# Compile the model with the optimizer\n",
        "model2.compile(optimizer,\n",
        "              loss='categorical_crossentropy',\n",
        "              metrics=['accuracy',tf.keras.metrics.Precision(), tf.keras.metrics.Recall(),tf.keras.metrics.AUC()])"
      ],
      "metadata": {
        "id": "ZA_qg9_RjPlu"
      },
      "execution_count": null,
      "outputs": []
    },
    {
      "cell_type": "code",
      "source": [
        "early_stop = EarlyStopping(monitor='val_loss', patience=3)\n",
        "model2.fit(x_train, y_train, epochs=10, validation_data=(x_test, y_test), callbacks=[early_stop],shuffle=True)"
      ],
      "metadata": {
        "execution": {
          "iopub.status.busy": "2023-10-21T14:13:55.526016Z",
          "iopub.execute_input": "2023-10-21T14:13:55.526435Z",
          "iopub.status.idle": "2023-10-21T14:14:17.227493Z",
          "shell.execute_reply.started": "2023-10-21T14:13:55.526404Z",
          "shell.execute_reply": "2023-10-21T14:14:17.226421Z"
        },
        "trusted": true,
        "id": "5OstT8XyjPlu",
        "outputId": "431b5529-69f2-45ca-b96c-4b666dfea848"
      },
      "execution_count": null,
      "outputs": [
        {
          "name": "stdout",
          "text": "Epoch 1/10\n5/5 [==============================] - 6s 882ms/step - loss: 5743.7378 - accuracy: 0.5972 - precision_2: 0.5972 - recall_2: 0.5972 - auc_1: 0.5972 - val_loss: 8962.0342 - val_accuracy: 0.3784 - val_precision_2: 0.3784 - val_recall_2: 0.3784 - val_auc_1: 0.3784\nEpoch 2/10\n5/5 [==============================] - 4s 794ms/step - loss: 2667.0637 - accuracy: 0.6667 - precision_2: 0.6667 - recall_2: 0.6667 - auc_1: 0.6667 - val_loss: 71.4543 - val_accuracy: 0.9730 - val_precision_2: 0.9730 - val_recall_2: 0.9730 - val_auc_1: 0.9730\nEpoch 3/10\n5/5 [==============================] - 4s 784ms/step - loss: 388.2737 - accuracy: 0.8542 - precision_2: 0.8542 - recall_2: 0.8542 - auc_1: 0.8542 - val_loss: 4853.8989 - val_accuracy: 0.6757 - val_precision_2: 0.6757 - val_recall_2: 0.6757 - val_auc_1: 0.6757\nEpoch 4/10\n5/5 [==============================] - 4s 779ms/step - loss: 921.4053 - accuracy: 0.8611 - precision_2: 0.8611 - recall_2: 0.8611 - auc_1: 0.8611 - val_loss: 325.4505 - val_accuracy: 0.9730 - val_precision_2: 0.9730 - val_recall_2: 0.9730 - val_auc_1: 0.9730\nEpoch 5/10\n5/5 [==============================] - 4s 796ms/step - loss: 292.8999 - accuracy: 0.9653 - precision_2: 0.9653 - recall_2: 0.9653 - auc_1: 0.9653 - val_loss: 392.5359 - val_accuracy: 0.9730 - val_precision_2: 0.9730 - val_recall_2: 0.9730 - val_auc_1: 0.9730\n",
          "output_type": "stream"
        },
        {
          "execution_count": 31,
          "output_type": "execute_result",
          "data": {
            "text/plain": "<keras.callbacks.History at 0x7fa0348c45b0>"
          },
          "metadata": {}
        }
      ]
    },
    {
      "cell_type": "code",
      "source": [
        "y_predict=model2.predict(x_test)\n",
        "y_true=y_test\n",
        "res = tf.math.confusion_matrix(y_true,y_predict)\n",
        "sns.heatmap(res,annot=True)"
      ],
      "metadata": {
        "execution": {
          "iopub.status.busy": "2023-10-21T13:44:16.564795Z",
          "iopub.execute_input": "2023-10-21T13:44:16.565190Z",
          "iopub.status.idle": "2023-10-21T13:44:17.240258Z",
          "shell.execute_reply.started": "2023-10-21T13:44:16.565161Z",
          "shell.execute_reply": "2023-10-21T13:44:17.239188Z"
        },
        "trusted": true,
        "id": "HQo-3XaVjPlu",
        "outputId": "8eb4ac20-9c16-48ad-bc83-0aa9f0720ec3"
      },
      "execution_count": null,
      "outputs": [
        {
          "name": "stdout",
          "text": "2/2 [==============================] - 0s 38ms/step\n",
          "output_type": "stream"
        },
        {
          "execution_count": 17,
          "output_type": "execute_result",
          "data": {
            "text/plain": "<Axes: >"
          },
          "metadata": {}
        },
        {
          "output_type": "display_data",
          "data": {
            "text/plain": "<Figure size 640x480 with 2 Axes>",
            "image/png": "[encoded data removed]"
          },
          "metadata": {}
        }
      ]
    }
  ]
}